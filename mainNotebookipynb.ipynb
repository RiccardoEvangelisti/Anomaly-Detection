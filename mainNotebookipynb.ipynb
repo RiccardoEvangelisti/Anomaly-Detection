{
 "cells": [
  {
   "cell_type": "code",
   "execution_count": null,
   "metadata": {},
   "outputs": [],
   "source": [
    "from query_tool import M100DataClient\n",
    "from sklearn import metrics\n",
    "\n",
    "dataset_path = \".\\\\22-09\\\\year_month=22-09\"\n",
    "\n",
    "client = M100DataClient(dataset_path)\n",
    "\n",
    "# Available plugins\n",
    "plugins = list(client.metrics_per_plugin.keys())\n",
    "\n",
    "# Metrics for a given plugin (e.g. IPMI)\n",
    "ipmi_metrics: list[str] = client.metrics_per_plugin[\"slurm\"]\n",
    "\n",
    "df = client.query(ipmi_metrics)\n"
   ]
  },
  {
   "cell_type": "code",
   "execution_count": 13,
   "metadata": {},
   "outputs": [],
   "source": [
    "from pandas import DataFrame\n",
    "\n",
    "metrics = DataFrame(df[\"metric\"].unique())\n"
   ]
  }
 ],
 "metadata": {
  "kernelspec": {
   "display_name": "Python 3",
   "language": "python",
   "name": "python3"
  },
  "language_info": {
   "codemirror_mode": {
    "name": "ipython",
    "version": 3
   },
   "file_extension": ".py",
   "mimetype": "text/x-python",
   "name": "python",
   "nbconvert_exporter": "python",
   "pygments_lexer": "ipython3",
   "version": "3.10.0"
  }
 },
 "nbformat": 4,
 "nbformat_minor": 2
}
