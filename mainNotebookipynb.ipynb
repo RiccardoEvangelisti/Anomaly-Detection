{
 "cells": [
  {
   "cell_type": "code",
   "execution_count": 4,
   "metadata": {},
   "outputs": [
    {
     "ename": "FileNotFoundError",
     "evalue": "/path/dataset",
     "output_type": "error",
     "traceback": [
      "\u001b[1;31m---------------------------------------------------------------------------\u001b[0m",
      "\u001b[1;31mFileNotFoundError\u001b[0m                         Traceback (most recent call last)",
      "\u001b[1;32mc:\\Users\\evang.HOMEEVANGELISTI\\Il mio Drive\\UNIVERSITA\\Magistrale\\1.1) ATTIVITA PROGETTUALE\\Anomaly-Detection\\mainNotebookipynb.ipynb Cell 1\u001b[0m line \u001b[0;36m6\n\u001b[0;32m      <a href='vscode-notebook-cell:/c%3A/Users/evang.HOMEEVANGELISTI/Il%20mio%20Drive/UNIVERSITA/Magistrale/1.1%29%20ATTIVITA%20PROGETTUALE/Anomaly-Detection/mainNotebookipynb.ipynb#W0sZmlsZQ%3D%3D?line=1'>2</a>\u001b[0m \u001b[39mfrom\u001b[39;00m \u001b[39mquery_tool\u001b[39;00m \u001b[39mimport\u001b[39;00m M100DataClient\n\u001b[0;32m      <a href='vscode-notebook-cell:/c%3A/Users/evang.HOMEEVANGELISTI/Il%20mio%20Drive/UNIVERSITA/Magistrale/1.1%29%20ATTIVITA%20PROGETTUALE/Anomaly-Detection/mainNotebookipynb.ipynb#W0sZmlsZQ%3D%3D?line=3'>4</a>\u001b[0m dataset_path \u001b[39m=\u001b[39m \u001b[39m'\u001b[39m\u001b[39m/path/dataset/\u001b[39m\u001b[39m'\u001b[39m\n\u001b[1;32m----> <a href='vscode-notebook-cell:/c%3A/Users/evang.HOMEEVANGELISTI/Il%20mio%20Drive/UNIVERSITA/Magistrale/1.1%29%20ATTIVITA%20PROGETTUALE/Anomaly-Detection/mainNotebookipynb.ipynb#W0sZmlsZQ%3D%3D?line=5'>6</a>\u001b[0m client \u001b[39m=\u001b[39m M100DataClient(dataset_path)\n\u001b[0;32m      <a href='vscode-notebook-cell:/c%3A/Users/evang.HOMEEVANGELISTI/Il%20mio%20Drive/UNIVERSITA/Magistrale/1.1%29%20ATTIVITA%20PROGETTUALE/Anomaly-Detection/mainNotebookipynb.ipynb#W0sZmlsZQ%3D%3D?line=7'>8</a>\u001b[0m \u001b[39m# Available plugins\u001b[39;00m\n\u001b[0;32m      <a href='vscode-notebook-cell:/c%3A/Users/evang.HOMEEVANGELISTI/Il%20mio%20Drive/UNIVERSITA/Magistrale/1.1%29%20ATTIVITA%20PROGETTUALE/Anomaly-Detection/mainNotebookipynb.ipynb#W0sZmlsZQ%3D%3D?line=8'>9</a>\u001b[0m plugins \u001b[39m=\u001b[39m \u001b[39mlist\u001b[39m(client\u001b[39m.\u001b[39mmetrics_per_plugin\u001b[39m.\u001b[39mkeys())\n",
      "File \u001b[1;32mc:\\Python310\\lib\\site-packages\\query_tool\\query_tool.py:56\u001b[0m, in \u001b[0;36mM100DataClient.__init__\u001b[1;34m(self, path)\u001b[0m\n\u001b[0;32m     50\u001b[0m     schema \u001b[39m=\u001b[39m \u001b[39mself\u001b[39m\u001b[39m.\u001b[39mschema_stump\u001b[39m.\u001b[39mappend(pa\u001b[39m.\u001b[39mfield(\u001b[39m'\u001b[39m\u001b[39mvalue\u001b[39m\u001b[39m'\u001b[39m, dtype))\n\u001b[0;32m     52\u001b[0m part \u001b[39m=\u001b[39m ds\u001b[39m.\u001b[39mpartitioning(schema,\n\u001b[0;32m     53\u001b[0m                        flavor\u001b[39m=\u001b[39m\u001b[39m'\u001b[39m\u001b[39mhive\u001b[39m\u001b[39m'\u001b[39m,\n\u001b[0;32m     54\u001b[0m                        dictionaries\u001b[39m=\u001b[39m\u001b[39mself\u001b[39m\u001b[39m.\u001b[39mpart_cols_dictionaries)\n\u001b[1;32m---> 56\u001b[0m \u001b[39mself\u001b[39m\u001b[39m.\u001b[39mdataset_per_dtype[dtype] \u001b[39m=\u001b[39m ds\u001b[39m.\u001b[39;49mdataset(\u001b[39mself\u001b[39;49m\u001b[39m.\u001b[39;49mpath,\n\u001b[0;32m     57\u001b[0m                                            \u001b[39mformat\u001b[39;49m\u001b[39m=\u001b[39;49mparquet_format,\n\u001b[0;32m     58\u001b[0m                                            partitioning\u001b[39m=\u001b[39;49mpart,\n\u001b[0;32m     59\u001b[0m                                            schema\u001b[39m=\u001b[39;49mschema)\n",
      "File \u001b[1;32mc:\\Python310\\lib\\site-packages\\pyarrow\\dataset.py:773\u001b[0m, in \u001b[0;36mdataset\u001b[1;34m(source, schema, format, filesystem, partitioning, partition_base_dir, exclude_invalid_files, ignore_prefixes)\u001b[0m\n\u001b[0;32m    762\u001b[0m kwargs \u001b[39m=\u001b[39m \u001b[39mdict\u001b[39m(\n\u001b[0;32m    763\u001b[0m     schema\u001b[39m=\u001b[39mschema,\n\u001b[0;32m    764\u001b[0m     filesystem\u001b[39m=\u001b[39mfilesystem,\n\u001b[1;32m   (...)\u001b[0m\n\u001b[0;32m    769\u001b[0m     selector_ignore_prefixes\u001b[39m=\u001b[39mignore_prefixes\n\u001b[0;32m    770\u001b[0m )\n\u001b[0;32m    772\u001b[0m \u001b[39mif\u001b[39;00m _is_path_like(source):\n\u001b[1;32m--> 773\u001b[0m     \u001b[39mreturn\u001b[39;00m _filesystem_dataset(source, \u001b[39m*\u001b[39m\u001b[39m*\u001b[39mkwargs)\n\u001b[0;32m    774\u001b[0m \u001b[39melif\u001b[39;00m \u001b[39misinstance\u001b[39m(source, (\u001b[39mtuple\u001b[39m, \u001b[39mlist\u001b[39m)):\n\u001b[0;32m    775\u001b[0m     \u001b[39mif\u001b[39;00m \u001b[39mall\u001b[39m(_is_path_like(elem) \u001b[39mfor\u001b[39;00m elem \u001b[39min\u001b[39;00m source):\n",
      "File \u001b[1;32mc:\\Python310\\lib\\site-packages\\pyarrow\\dataset.py:456\u001b[0m, in \u001b[0;36m_filesystem_dataset\u001b[1;34m(source, schema, filesystem, partitioning, format, partition_base_dir, exclude_invalid_files, selector_ignore_prefixes)\u001b[0m\n\u001b[0;32m    454\u001b[0m     fs, paths_or_selector \u001b[39m=\u001b[39m _ensure_multiple_sources(source, filesystem)\n\u001b[0;32m    455\u001b[0m \u001b[39melse\u001b[39;00m:\n\u001b[1;32m--> 456\u001b[0m     fs, paths_or_selector \u001b[39m=\u001b[39m _ensure_single_source(source, filesystem)\n\u001b[0;32m    458\u001b[0m options \u001b[39m=\u001b[39m FileSystemFactoryOptions(\n\u001b[0;32m    459\u001b[0m     partitioning\u001b[39m=\u001b[39mpartitioning,\n\u001b[0;32m    460\u001b[0m     partition_base_dir\u001b[39m=\u001b[39mpartition_base_dir,\n\u001b[0;32m    461\u001b[0m     exclude_invalid_files\u001b[39m=\u001b[39mexclude_invalid_files,\n\u001b[0;32m    462\u001b[0m     selector_ignore_prefixes\u001b[39m=\u001b[39mselector_ignore_prefixes\n\u001b[0;32m    463\u001b[0m )\n\u001b[0;32m    464\u001b[0m factory \u001b[39m=\u001b[39m FileSystemDatasetFactory(fs, paths_or_selector, \u001b[39mformat\u001b[39m, options)\n",
      "File \u001b[1;32mc:\\Python310\\lib\\site-packages\\pyarrow\\dataset.py:432\u001b[0m, in \u001b[0;36m_ensure_single_source\u001b[1;34m(path, filesystem)\u001b[0m\n\u001b[0;32m    430\u001b[0m     paths_or_selector \u001b[39m=\u001b[39m [path]\n\u001b[0;32m    431\u001b[0m \u001b[39melse\u001b[39;00m:\n\u001b[1;32m--> 432\u001b[0m     \u001b[39mraise\u001b[39;00m \u001b[39mFileNotFoundError\u001b[39;00m(path)\n\u001b[0;32m    434\u001b[0m \u001b[39mreturn\u001b[39;00m filesystem, paths_or_selector\n",
      "\u001b[1;31mFileNotFoundError\u001b[0m: /path/dataset"
     ]
    }
   ],
   "source": [
    "import pandas as pd\n",
    "from query_tool import M100DataClient\n",
    "\n",
    "dataset_path = ''\n",
    "\n",
    "client = M100DataClient(dataset_path)\n",
    "\n",
    "# Available plugins\n",
    "plugins = list(client.metrics_per_plugin.keys())\n",
    "\n",
    "# Metrics for a given plugin (e.g. IPMI)\n",
    "ipmi_metrics = client.metrics_per_plugin[\"ipmi\"]\n",
    "\n",
    "\n",
    "df = client.query(\n",
    "    \"Gpu0_gpu_temp\", year_month=\"22-09\", node=[\"381\", \"383\", \"385\", \"387\"]\n",
    ")\n"
   ]
  }
 ],
 "metadata": {
  "kernelspec": {
   "display_name": "Python 3",
   "language": "python",
   "name": "python3"
  },
  "language_info": {
   "codemirror_mode": {
    "name": "ipython",
    "version": 3
   },
   "file_extension": ".py",
   "mimetype": "text/x-python",
   "name": "python",
   "nbconvert_exporter": "python",
   "pygments_lexer": "ipython3",
   "version": "3.10.0"
  }
 },
 "nbformat": 4,
 "nbformat_minor": 2
}
