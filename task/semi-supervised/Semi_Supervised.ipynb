{
 "cells": [
  {
   "cell_type": "markdown",
   "metadata": {},
   "source": [
    "# Semi-Supervised Approach\n",
    "\n",
    "- Usage example on different dataset: https://github.com/AndreaBorghesi/anomaly_detection_HPC"
   ]
  },
  {
   "cell_type": "code",
   "execution_count": null,
   "metadata": {},
   "outputs": [],
   "source": [
    "# Build the complete dataset, with anomalies and with nagios column\n",
    "\n",
    "# Extract dynamically the anomaly periods, as list of time intervals\n",
    "    # Based on the nagios signal: if equals to 1 is anomaly period.\n",
    "\n",
    "# Divide the dataset into df_anomalies and df_normal\n",
    "# Divide df_normal into:\n",
    "    # train: df_normal_train (70%)\n",
    "    # validation: df_normal_valid (30%)\n",
    "\n",
    "# Train on df_normal_train and validate on df_normal_valid\n",
    "\n",
    "# Test on df_normal to understand the precision of the autoencoder (good if high)\n",
    "\n",
    "# Test on df_anomalies (good is very low)\n",
    "\n",
    "# Test on the entire dataset: plot the result "
   ]
  }
 ],
 "metadata": {
  "language_info": {
   "name": "python"
  }
 },
 "nbformat": 4,
 "nbformat_minor": 2
}
