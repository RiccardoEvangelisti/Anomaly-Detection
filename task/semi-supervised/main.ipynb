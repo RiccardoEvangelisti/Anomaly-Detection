{
 "cells": [
  {
   "cell_type": "markdown",
   "metadata": {},
   "source": [
    "# Semi-Supervised Approach\n",
    "\n",
    "- Usage example on different dataset: https://github.com/AndreaBorghesi/anomaly_detection_HPC"
   ]
  },
  {
   "cell_type": "code",
   "execution_count": 1,
   "metadata": {},
   "outputs": [
    {
     "name": "stdout",
     "output_type": "stream",
     "text": [
      "['ipmi', 'ganglia', 'vertiv', 'schneider', 'weather', 'logics', 'nagios', 'slurm', 'job_table']\n"
     ]
    }
   ],
   "source": [
    "import sys\n",
    "\n",
    "sys.path.insert(0, \"../../\")  # add query_tool module\n",
    "\n",
    "from query_tool import M100DataClient\n",
    "import pandas as pd\n",
    "import numpy as np\n",
    "\n",
    "dataset_path = \"../../dataset/22-09/year_month=22-09\"\n",
    "client = M100DataClient(dataset_path)\n",
    "\n",
    "# Available plugins\n",
    "plugins = list(client.metrics_per_plugin.keys())\n",
    "print(plugins)"
   ]
  },
  {
   "cell_type": "code",
   "execution_count": 2,
   "metadata": {},
   "outputs": [
    {
     "name": "stdout",
     "output_type": "stream",
     "text": [
      "Start querying node 0\n",
      "Retrieving data of type: int32\n",
      "Retrieving data of type: float\n",
      "Num_rows: 0\n",
      "\n",
      "Start querying node 1\n",
      "Retrieving data of type: int32\n"
     ]
    }
   ],
   "source": [
    "best_node = 0\n",
    "num_rows = 0\n",
    "\n",
    "for node_id in range(0, 979 + 1):\n",
    "    print(\"Start querying node {}\".format(node_id))\n",
    "    curr_rows = client.query_plugins(plugins=[\"ipmi\"], node=str(node_id)).shape[0]\n",
    "    print(\"Num_rows: {}\\n\".format(num_rows))\n",
    "    if curr_rows > num_rows:\n",
    "        num_rows = curr_rows\n",
    "        best_node = node_id\n",
    "\n",
    "print(best_node)\n",
    "print(num_rows)"
   ]
  }
 ],
 "metadata": {
  "kernelspec": {
   "display_name": "Python 3",
   "language": "python",
   "name": "python3"
  },
  "language_info": {
   "codemirror_mode": {
    "name": "ipython",
    "version": 3
   },
   "file_extension": ".py",
   "mimetype": "text/x-python",
   "name": "python",
   "nbconvert_exporter": "python",
   "pygments_lexer": "ipython3",
   "version": "3.10.12"
  }
 },
 "nbformat": 4,
 "nbformat_minor": 2
}
