{
 "cells": [
  {
   "cell_type": "markdown",
   "metadata": {},
   "source": [
    "### Spatial distribution of the racks in the room\n",
    "\n",
    "- https://gitlab.com/ecs-lab/exadata/-/blob/main/documentation/racks_spatial_distribution.md"
   ]
  },
  {
   "cell_type": "markdown",
   "metadata": {},
   "source": [
    "### Plugins description\n",
    "- https://gitlab.com/ecs-lab/exadata/-/tree/main/documentation/plugins\n",
    "- https://gitlab.com/ecs-lab/exadata/-/blob/main/data_catalog/examon_data_catalog.ipynb"
   ]
  }
 ],
 "metadata": {
  "language_info": {
   "name": "python"
  }
 },
 "nbformat": 4,
 "nbformat_minor": 2
}
