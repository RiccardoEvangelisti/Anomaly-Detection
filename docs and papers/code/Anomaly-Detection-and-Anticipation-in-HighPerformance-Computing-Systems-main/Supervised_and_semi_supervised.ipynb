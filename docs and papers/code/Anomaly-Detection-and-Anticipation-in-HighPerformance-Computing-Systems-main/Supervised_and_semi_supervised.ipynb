{
 "cells": [
  {
   "cell_type": "code",
   "execution_count": 1,
   "metadata": {},
   "outputs": [],
   "source": [
    "import pandas as pd\n",
    "import matplotlib.pyplot as plt"
   ]
  },
  {
   "cell_type": "code",
   "execution_count": 2,
   "metadata": {},
   "outputs": [],
   "source": [
    "import keras"
   ]
  },
  {
   "cell_type": "code",
   "execution_count": 3,
   "metadata": {
    "colab": {
     "base_uri": "https://localhost:8080/"
    },
    "id": "2oAc-WyJ6bsl",
    "outputId": "ff5981c6-3409-4e44-c126-3a69f7e54ded"
   },
   "outputs": [],
   "source": [
    "from keras.layers import Input, Dense\n",
    "from keras.models import Model\n",
    "import numpy as np\n",
    "import matplotlib.pyplot as plt"
   ]
  },
  {
   "cell_type": "code",
   "execution_count": 4,
   "metadata": {},
   "outputs": [],
   "source": [
    "d1 = pd.read_csv('datasets/r129c12s02/dataset_jan_r129c12s02.csv')\n",
    "d2 = pd.read_csv('datasets/r129c12s02/dataset_may_r129c12s02.csv')\n",
    "data = pd.concat([d1,d2], axis = 0)"
   ]
  },
  {
   "cell_type": "code",
   "execution_count": 5,
   "metadata": {},
   "outputs": [],
   "source": [
    "data = data.drop(['jobs', 'Unnamed: 0', 'timestamp'], axis = 1)"
   ]
  },
  {
   "cell_type": "code",
   "execution_count": 7,
   "metadata": {},
   "outputs": [],
   "source": [
    "from sklearn.model_selection import train_test_split\n",
    "train, test = train_test_split(data, test_size=0.2, random_state=42)"
   ]
  },
  {
   "cell_type": "code",
   "execution_count": 8,
   "metadata": {},
   "outputs": [],
   "source": [
    "train_0, train_1 = train[train.label == 0], train[train.label == 1]\n",
    "test_0, test_1 = test[test.label == 0], test[test.label == 1]"
   ]
  },
  {
   "cell_type": "code",
   "execution_count": 9,
   "metadata": {},
   "outputs": [],
   "source": [
    "from numpy import array\n",
    "from keras.models import Model\n",
    "from keras.layers import Input\n",
    "from keras.layers import Dense\n",
    "from keras.utils import plot_model\n",
    "\n",
    "\n",
    "def DL_model(ishape = 120, full = True):\n",
    "    \n",
    "    visible = Input(shape=(ishape),name='input')\n",
    "    encoder =Dense(100, activation='relu', name='encoder_0')(visible)\n",
    "    layers = [80,60,40]\n",
    "    names = [1,2,3]\n",
    "    for i in range(len(layers)):\n",
    "        encoder = Dense(layers[i], activation = 'relu',name='encoder_{}'.format(names[i]))(encoder)\n",
    "\n",
    "    hidden = Dense(20,activation = 'relu', name='lattent')(encoder)\n",
    "\n",
    "    # define reconstruct decoder\n",
    "    decoder = Dense(40, activation='relu',name='decoder_0')(hidden)\n",
    "    layers2 = [60,80,100]\n",
    "    for i in range(len(layers2)):\n",
    "        decoder = Dense(layers2[i], activation='relu',name='decoder_{}'.format(names[i]))(decoder)\n",
    "    decoder = Dense(ishape, activation='sigmoid', name='autoencoder_output')(decoder)\n",
    "\n",
    "    # define classifier\n",
    "    classifier = Dense(20, activation='relu', name=\"hidden\")(hidden)\n",
    "    classifier = Dense(2, activation='softmax', name=\"classifier_output\")(classifier)\n",
    "\n",
    "    model = Model(inputs=visible, outputs=[decoder, classifier])\n",
    "\n",
    "    model_dec = Model(inputs=visible, outputs=[decoder])\n",
    "    model_cla = Model(inputs=visible, outputs=[classifier])\n",
    "    \n",
    "    if full:\n",
    "        return model\n",
    "    else:\n",
    "        return model_dec"
   ]
  },
  {
   "cell_type": "code",
   "execution_count": 10,
   "metadata": {},
   "outputs": [],
   "source": [
    "decoder = DL_model(120, False)\n",
    "full = DL_model(120, True)"
   ]
  },
  {
   "cell_type": "code",
   "execution_count": 11,
   "metadata": {},
   "outputs": [],
   "source": [
    "full.compile(\n",
    "    optimizer=keras.optimizers.RMSprop(1e-3),\n",
    "    loss={\n",
    "        \"autoencoder_output\": keras.losses.MeanSquaredError(),\n",
    "        \"classifier_output\": keras.losses.BinaryCrossentropy()\n",
    "    },\n",
    "    metrics={\"autoencoder_output\" : 'MeanSquaredError', \"classifier_output\": 'accuracy'}\n",
    ")"
   ]
  },
  {
   "cell_type": "code",
   "execution_count": 12,
   "metadata": {},
   "outputs": [],
   "source": [
    "decoder.compile(\n",
    "    optimizer=keras.optimizers.RMSprop(1e-3),\n",
    "    loss={\n",
    "        \"autoencoder_output\": keras.losses.MeanSquaredError(),\n",
    "    },\n",
    "    metrics={\"autoencoder_output\" : 'MeanSquaredError'}\n",
    ")"
   ]
  },
  {
   "cell_type": "code",
   "execution_count": 13,
   "metadata": {},
   "outputs": [],
   "source": [
    "from sklearn.preprocessing import MinMaxScaler"
   ]
  },
  {
   "cell_type": "markdown",
   "metadata": {},
   "source": [
    "# Training Autoencoder on normal data"
   ]
  },
  {
   "cell_type": "code",
   "execution_count": 14,
   "metadata": {},
   "outputs": [
    {
     "name": "stdout",
     "output_type": "stream",
     "text": [
      "Epoch 1/10\n",
      "1125/1125 [==============================] - 1s 1ms/step - loss: 0.0095 - mean_squared_error: 0.0095\n",
      "Epoch 2/10\n",
      "1125/1125 [==============================] - 1s 1ms/step - loss: 0.0035 - mean_squared_error: 0.0035\n",
      "Epoch 3/10\n",
      "1125/1125 [==============================] - 1s 1ms/step - loss: 0.0027 - mean_squared_error: 0.0027\n",
      "Epoch 4/10\n",
      "1125/1125 [==============================] - 1s 1ms/step - loss: 0.0021 - mean_squared_error: 0.0021\n",
      "Epoch 5/10\n",
      "1125/1125 [==============================] - 1s 1ms/step - loss: 0.0018 - mean_squared_error: 0.0018\n",
      "Epoch 6/10\n",
      "1125/1125 [==============================] - 2s 1ms/step - loss: 0.0016 - mean_squared_error: 0.0016\n",
      "Epoch 7/10\n",
      "1125/1125 [==============================] - 2s 2ms/step - loss: 0.0014 - mean_squared_error: 0.0014\n",
      "Epoch 8/10\n",
      "1125/1125 [==============================] - 2s 2ms/step - loss: 0.0013 - mean_squared_error: 0.0013\n",
      "Epoch 9/10\n",
      "1125/1125 [==============================] - 2s 2ms/step - loss: 0.0013 - mean_squared_error: 0.0013\n",
      "Epoch 10/10\n",
      "1125/1125 [==============================] - 2s 2ms/step - loss: 0.0012 - mean_squared_error: 0.0012\n"
     ]
    }
   ],
   "source": [
    "X0_train = train_0.drop('label', axis = 1).values\n",
    "scaler_dec = MinMaxScaler()\n",
    "X0_train = scaler_dec.fit_transform(X0_train)\n",
    "history_auto = decoder.fit(\n",
    "    X0_train,\n",
    "    {\"autoencoder_output\": X0_train},\n",
    "    batch_size = 10,\n",
    "    epochs=10)"
   ]
  },
  {
   "cell_type": "markdown",
   "metadata": {},
   "source": [
    "# Training classifier on all data"
   ]
  },
  {
   "cell_type": "code",
   "execution_count": 15,
   "metadata": {},
   "outputs": [
    {
     "name": "stdout",
     "output_type": "stream",
     "text": [
      "Epoch 1/10\n",
      "1126/1126 [==============================] - 2s 2ms/step - loss: 173681426563012730525057024.0000 - autoencoder_output_loss: 173681426563012730525057024.0000 - classifier_output_loss: 7.6248 - autoencoder_output_mean_squared_error: 173681426563012730525057024.0000 - classifier_output_accuracy: 0.9981\n",
      "Epoch 2/10\n",
      "1126/1126 [==============================] - 2s 2ms/step - loss: 173681684817429762458779648.0000 - autoencoder_output_loss: 173681684817429762458779648.0000 - classifier_output_loss: 7.6248 - autoencoder_output_mean_squared_error: 173681684817429762458779648.0000 - classifier_output_accuracy: 0.9981\n",
      "Epoch 3/10\n",
      "1126/1126 [==============================] - 2s 1ms/step - loss: 173681592583709393911021568.0000 - autoencoder_output_loss: 173681592583709393911021568.0000 - classifier_output_loss: 7.6248 - autoencoder_output_mean_squared_error: 173681592583709393911021568.0000 - classifier_output_accuracy: 0.9981\n",
      "Epoch 4/10\n",
      "1126/1126 [==============================] - 2s 2ms/step - loss: 173681611030453467620573184.0000 - autoencoder_output_loss: 173681611030453467620573184.0000 - classifier_output_loss: 7.6248 - autoencoder_output_mean_squared_error: 173681611030453467620573184.0000 - classifier_output_accuracy: 0.9981\n",
      "Epoch 5/10\n",
      "1126/1126 [==============================] - 2s 2ms/step - loss: 173681574136965320201469952.0000 - autoencoder_output_loss: 173681574136965320201469952.0000 - classifier_output_loss: 7.6248 - autoencoder_output_mean_squared_error: 173681574136965320201469952.0000 - classifier_output_accuracy: 0.9981\n",
      "Epoch 6/10\n",
      "1126/1126 [==============================] - 2s 2ms/step - loss: 173681574136965320201469952.0000 - autoencoder_output_loss: 173681574136965320201469952.0000 - classifier_output_loss: 7.6248 - autoencoder_output_mean_squared_error: 173681574136965320201469952.0000 - classifier_output_accuracy: 0.9981\n",
      "Epoch 7/10\n",
      "1126/1126 [==============================] - 2s 2ms/step - loss: 173681537243477172782366720.0000 - autoencoder_output_loss: 173681537243477172782366720.0000 - classifier_output_loss: 7.6248 - autoencoder_output_mean_squared_error: 173681537243477172782366720.0000 - classifier_output_accuracy: 0.9981\n",
      "Epoch 8/10\n",
      "1126/1126 [==============================] - 2s 2ms/step - loss: 173681777051150131006537728.0000 - autoencoder_output_loss: 173681777051150131006537728.0000 - classifier_output_loss: 7.6248 - autoencoder_output_mean_squared_error: 173681777051150131006537728.0000 - classifier_output_accuracy: 0.9981\n",
      "Epoch 9/10\n",
      "1126/1126 [==============================] - 2s 2ms/step - loss: 173681721710917909877882880.0000 - autoencoder_output_loss: 173681721710917909877882880.0000 - classifier_output_loss: 7.6248 - autoencoder_output_mean_squared_error: 173681721710917909877882880.0000 - classifier_output_accuracy: 0.9981\n",
      "Epoch 10/10\n",
      "1126/1126 [==============================] - 2s 2ms/step - loss: 173681537243477172782366720.0000 - autoencoder_output_loss: 173681537243477172782366720.0000 - classifier_output_loss: 7.6248 - autoencoder_output_mean_squared_error: 173681537243477172782366720.0000 - classifier_output_accuracy: 0.9981\n"
     ]
    }
   ],
   "source": [
    "y_train = train.label.values\n",
    "X_train = train.drop('label', axis = 1).values\n",
    "scaler_cla = MinMaxScaler()\n",
    "X0_train = scaler_cla.fit_transform(X0_train)\n",
    "history_auto = full.fit(\n",
    "    X_train,\n",
    "    {\"autoencoder_output\": X_train, \"classifier_output\": y_train},\n",
    "    batch_size = 10,\n",
    "    epochs=10)"
   ]
  },
  {
   "cell_type": "markdown",
   "metadata": {},
   "source": [
    "# Combining the classifiers and evaluating the results"
   ]
  },
  {
   "cell_type": "code",
   "execution_count": 17,
   "metadata": {},
   "outputs": [],
   "source": [
    "def predict_au(data, thr = 0.6):\n",
    "    data = data.drop('label', axis = 1).values\n",
    "    error_v = scaler_dec.fit_transform(data) - decoder.predict(scaler_dec.fit_transform(data))\n",
    "    error_v = pd.DataFrame(error_v, columns = list(train.drop(['label'], axis = 1))).ewm(span=data.shape[0]).mean()\n",
    "    error_v[\"sum\"] = error_v.sum(axis=1)\n",
    "    error_v[\"label_pred\"] = error_v[\"sum\"].apply(lambda x: 1 if x >= thr else 0)\n",
    "    return list(error_v[\"label_pred\"])"
   ]
  },
  {
   "cell_type": "code",
   "execution_count": 18,
   "metadata": {},
   "outputs": [],
   "source": [
    "def predict_cla(data):\n",
    "    data = data.drop('label', axis = 1).values\n",
    "    data = scaler_cla.fit_transform(data)\n",
    "    prediction =  full.predict(data)[1]\n",
    "    r = []\n",
    "    for i in prediction:\n",
    "        if i[0] > i[1]:\n",
    "            r.append(0)\n",
    "        else:\n",
    "            r.append(1)\n",
    "    return r"
   ]
  },
  {
   "cell_type": "code",
   "execution_count": 19,
   "metadata": {},
   "outputs": [],
   "source": [
    "def predict_combined(data, thr = 0.95):\n",
    "    pred_au = predict_au(data, thr)\n",
    "    pred_cla = predict_cla(data)\n",
    "    combined = [max(pred_au[i], pred_cla[i]) for i in range(len(pred_au))]\n",
    "    return combined"
   ]
  },
  {
   "cell_type": "code",
   "execution_count": 20,
   "metadata": {},
   "outputs": [],
   "source": [
    "from sklearn.metrics import classification_report"
   ]
  },
  {
   "cell_type": "code",
   "execution_count": 21,
   "metadata": {},
   "outputs": [
    {
     "name": "stdout",
     "output_type": "stream",
     "text": [
      "              precision    recall  f1-score   support\n",
      "\n",
      "           0       1.00      1.00      1.00      2813\n",
      "           1       0.00      0.00      0.00         2\n",
      "\n",
      "    accuracy                           1.00      2815\n",
      "   macro avg       0.50      0.50      0.50      2815\n",
      "weighted avg       1.00      1.00      1.00      2815\n",
      "\n"
     ]
    }
   ],
   "source": [
    "print(classification_report(list(test.label), predict_combined(test)))"
   ]
  },
  {
   "cell_type": "code",
   "execution_count": 22,
   "metadata": {},
   "outputs": [
    {
     "name": "stdout",
     "output_type": "stream",
     "text": [
      "              precision    recall  f1-score   support\n",
      "\n",
      "           0       1.00      1.00      1.00      2813\n",
      "           1       0.00      0.00      0.00         2\n",
      "\n",
      "    accuracy                           1.00      2815\n",
      "   macro avg       0.50      0.50      0.50      2815\n",
      "weighted avg       1.00      1.00      1.00      2815\n",
      "\n"
     ]
    }
   ],
   "source": [
    "# comparion to random forest\n",
    "from sklearn.ensemble import RandomForestClassifier\n",
    "RF = RandomForestClassifier(n_estimators=10)\n",
    "RF = RF.fit(train.drop('label', axis = 1).values, train.label)\n",
    "pred = RF.predict(test.drop('label', axis = 1).values)\n",
    "print(classification_report(list(test.label), pred))"
   ]
  },
  {
   "cell_type": "code",
   "execution_count": null,
   "metadata": {},
   "outputs": [],
   "source": []
  }
 ],
 "metadata": {
  "accelerator": "GPU",
  "colab": {
   "collapsed_sections": [],
   "name": "myfirstNN.ipynb",
   "provenance": []
  },
  "kernelspec": {
   "display_name": "bologna",
   "language": "python",
   "name": "bologna"
  },
  "language_info": {
   "codemirror_mode": {
    "name": "ipython",
    "version": 3
   },
   "file_extension": ".py",
   "mimetype": "text/x-python",
   "name": "python",
   "nbconvert_exporter": "python",
   "pygments_lexer": "ipython3",
   "version": "3.8.5"
  }
 },
 "nbformat": 4,
 "nbformat_minor": 1
}
